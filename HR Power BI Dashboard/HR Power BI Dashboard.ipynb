{
 "cells": [
  {
   "cell_type": "markdown",
   "metadata": {},
   "source": [
    "### **บริษัทจะขับเคลื่อนได้ ก็เพราะกำลังคนเป็นสำคัญ**"
   ]
  },
  {
   "cell_type": "markdown",
   "metadata": {},
   "source": [
    "**การรู้ และวิเคราะห์ข้อมูล HR เชิงลึก จะทำให้บริษัทสามารถทำกำไรเพิ่มขึ้นได้ จากการใช้กำลังคนอย่างเต็มที่ และลดการสูญเสียคนโดยไม่จำเป็น ตำแหน่ง HR Data Analytics จึงมีบทบาทในการช่วยองค์กรหาปัญหาเรื่องกำลังคนจากข้อมูลที่มีอยู่**"
   ]
  },
  {
   "cell_type": "markdown",
   "metadata": {},
   "source": [
    "*หมายเหตุ: ข้อมูลที่ใช้ด้านล่างนี้ ใช้ข้อมูลเปิดเผยสาธารณะบน Internet เพื่อใช้เป็นตัวอย่างในการดำเนินงาน*"
   ]
  },
  {
   "cell_type": "markdown",
   "metadata": {},
   "source": [
    "---"
   ]
  },
  {
   "cell_type": "markdown",
   "metadata": {},
   "source": [
    "เพื่อตอบวิสัยทัศน์ขององค์กรในการมีข้อมูลที่ดีในการตัดสินใจ จึงเริ่มดำเนินการดังนี้"
   ]
  },
  {
   "cell_type": "markdown",
   "metadata": {},
   "source": [
    "**1. ให้นำเข้าข้อมูลจากแหล่งต่าง ๆ และสำรวจข้อมูลด้วย Power Query โดยพบว่าต้องดำเนินการดังนี้**\n",
    "- จัดการ Column ที่ซ้ำซ้อนออก\n",
    "- เปลี่ยนข้อมูลที่เป็น Code ให้กลายเป็นข้อความที่สื่อความหมาย\n",
    "- สร้าง Column เพิ่มจากข้อมูลที่มี เช่น อายุจากวันเกิด ระยะเวลาการทำงานจากวันเริ่มงาน เป็นต้น"
   ]
  },
  {
   "cell_type": "markdown",
   "metadata": {},
   "source": [
    "![title](Attachment/001.png)"
   ]
  },
  {
   "cell_type": "markdown",
   "metadata": {},
   "source": [
    "- ได้ผลลัพธ์ดังนี้"
   ]
  },
  {
   "cell_type": "markdown",
   "metadata": {},
   "source": [
    " ![title](Attachment/002.png)"
   ]
  },
  {
   "cell_type": "markdown",
   "metadata": {},
   "source": [
    "---"
   ]
  },
  {
   "cell_type": "markdown",
   "metadata": {},
   "source": [
    "**2. เริ่มต้นสร้างหน้าแสดงข้อมูล โดยดำเนินการดังนี้**\n",
    "- สืบเนื่องจากผู้ใช้งาน อาจใช้งานตลอดทั้งวัน จึงนิยมใช้พื้นหลังเป็นสีดำเพื่อความสบายตา\n",
    "- ห้องประชุมส่วนใหญ่ ใช้ Projector ขนาดใหญ่ จึงสร้างกรอบการทำงาน (Canvas) ที่มีความละเอียดสูง (3840 x 2160)\n",
    "- การออกแบบ จะนิยมนำข้อมูลทั้งหมดที่มี มาแสดงใน 1 หน้าต่าง การทำเช่นนี้ จะทำให้การตัดสินใจกว้างขึ้นในหนึ่งหน้า และเป็นการใช้ Power BI Interactive ได้อย่างคุ้มค่า\n",
    "- การออกแบบ จะต้องให้หน้าจอโหลดได้เร็ว ไฟล์มีน้ำหนักเบา และสามารถพัฒนาต่อได้ง่ายโดยผู้อื่น"
   ]
  },
  {
   "cell_type": "markdown",
   "metadata": {},
   "source": [
    "![title](Attachment/003.png)"
   ]
  },
  {
   "cell_type": "markdown",
   "metadata": {},
   "source": [
    "- ใช้ Grid System ช่วย ทำให้ข้อมูลดูสบายตามากยิ่งขึ้น และทดลองจัดการองค์ประกอบ"
   ]
  },
  {
   "cell_type": "markdown",
   "metadata": {},
   "source": [
    "![title](Attachment/004.png)"
   ]
  },
  {
   "cell_type": "markdown",
   "metadata": {},
   "source": [
    "![title](Attachment/005.png)"
   ]
  },
  {
   "cell_type": "markdown",
   "metadata": {},
   "source": [
    " - นำ Column ที่มีมาทดลองวาง"
   ]
  },
  {
   "cell_type": "markdown",
   "metadata": {},
   "source": [
    "![title](Attachment/006.png)"
   ]
  },
  {
   "cell_type": "markdown",
   "metadata": {},
   "source": [
    "---"
   ]
  },
  {
   "cell_type": "markdown",
   "metadata": {},
   "source": [
    "**3. เมื่อทดลองวางเป็นที่เรียบร้อยแล้ว พบว่าสามารถปรับปรุงการแสดงข้อมูลให้ดีขึ้นได้ ดังนี้**\n",
    "- กราฟอายุสามารถรวมกลุ่มได้ เพื่อให้อ่านและแปลผลได้ง่ายยิ่งขึ้น\n",
    "- กราฟคะแนน Engagement ถี่เกินไปในการวิเคราะห์ ให้จัดกลุ่มด้วยการ Round\n",
    "- บางกราฟสามารถนำไปใช้ได้เลย\n",
    "- บางกราฟไม่บ่งบอกความหมายใด ๆ"
   ]
  },
  {
   "cell_type": "markdown",
   "metadata": {},
   "source": [
    "![title](Attachment/007.png)"
   ]
  },
  {
   "cell_type": "markdown",
   "metadata": {},
   "source": [
    "- ให้ปรับปรุง จนได้กราฟที่มีความหมายต่อองค์ โดยพยายามใช้กราฟที่เรียบง่าย"
   ]
  },
  {
   "cell_type": "markdown",
   "metadata": {},
   "source": [
    "![title](Attachment/008.png)"
   ]
  },
  {
   "cell_type": "markdown",
   "metadata": {},
   "source": [
    "---"
   ]
  },
  {
   "cell_type": "markdown",
   "metadata": {},
   "source": [
    "**4. เมื่อสร้างกราฟที่มีประโยชน์ต่อองค์กรเรียบร้อยแล้ว ให้ดำเนินการขั้นตอน ต่อไปดังนี้**\n",
    "- ค้นหาและสร้าง Measure ที่ดีในการชี้วัด โดยให้วางตำแหน่งที่อยู่ใกล้กับกราฟ จะทำให้ผู้อ่านเข้าใจ และเห็นความสัมพันธ์ระหว่างกล่อง ง่ายยิ่งขึ้น\n",
    "- บางกราฟมีการแบ่งประเภทมากเกินไป ให้ลดการแบ่งประเภทลง\n",
    "- ลดทศนิยมที่มากเกินความจำเป็น\n",
    "- เลือกโทนสีที่เหมาะสมกับองค์กร โดยเน้นความเรียบง่าย ให้ผู้ใช้งานสามารถใช้ได้นานโดยไม่เบื่อ\n",
    "- ใช้สีช่วยบ่งบอกความหมายของกราฟ และระวังไม่ให้แต่ละกราฟมีสีมากเกินไป"
   ]
  },
  {
   "cell_type": "markdown",
   "metadata": {},
   "source": [
    "![Title](Attachment/009.png)"
   ]
  },
  {
   "cell_type": "markdown",
   "metadata": {},
   "source": [
    "---"
   ]
  },
  {
   "cell_type": "markdown",
   "metadata": {},
   "source": [
    "**5. เมื่อได้กราฟและ Measure ได้ตามต้องการแล้ว ให้เพิ่มประโยชน์การใช้งาน ดังนี้**\n",
    "- ให้เพิ่ม Slicer ที่ผู้ใช้งานจะตัดแบ่งข้อมูลได้อย่างยืดหยุ่น โดยอ้างอิงจาก Column ที่มี\n",
    "- สร้างตารางผลลัพธ์ เพื่อให้ผู้ใช้งานเข้าใจได้ว่าข้อมูลที่ตนเองได้รับ มาจากแหล่งอ้างอิงใด"
   ]
  },
  {
   "cell_type": "markdown",
   "metadata": {},
   "source": [
    "![Title](Attachment/010.png)"
   ]
  },
  {
   "cell_type": "markdown",
   "metadata": {},
   "source": [
    "---"
   ]
  },
  {
   "cell_type": "markdown",
   "metadata": {},
   "source": [
    "**6. ถ้าต้องการกราฟเพิ่มเติม สามารถสร้างกราฟซ้อนกราฟได้ ด้วย Tooltips จะทำให้ข้อมูลจบครบถ้วนใน 1 หน้า**\n",
    "- ดำเนินการทำ Tooltips เพื่อทำให้กราฟแสดงข้อมูลได้มากขึ้น"
   ]
  },
  {
   "cell_type": "markdown",
   "metadata": {},
   "source": [
    "![Title](Attachment/011.png)"
   ]
  },
  {
   "cell_type": "markdown",
   "metadata": {},
   "source": [
    "---"
   ]
  },
  {
   "cell_type": "markdown",
   "metadata": {},
   "source": [
    "**7. เมื่อได้องค์ประกอบครบถ้วนแล้ว วิเคราะห์ข้อมูล เริ่มด้วยการกรองพนักงานที่ Active**"
   ]
  },
  {
   "cell_type": "markdown",
   "metadata": {},
   "source": [
    " ![Title](Attachment/012.png)"
   ]
  },
  {
   "cell_type": "markdown",
   "metadata": {},
   "source": [
    "- เมื่อกรองเรียบร้อยแล้ว พบสิ่งที่น่าสนใจ เช่น สังเกตได้ว่า พนักงานแผนก Production ของบริษัทมีจำนวนมาก แต่มีเงินเดือนเฉลี่ยต่ำ (จึงทำการเลือก Slicer ไปที่ Production เพื่อวิเคราะห์เพิ่มเติม)"
   ]
  },
  {
   "cell_type": "markdown",
   "metadata": {},
   "source": [
    " ![Title](Attachment/013.png)"
   ]
  },
  {
   "cell_type": "markdown",
   "metadata": {},
   "source": [
    "---"
   ]
  },
  {
   "cell_type": "markdown",
   "metadata": {},
   "source": [
    "**8. แผนก Production มีสิ่งที่น่าสนใจ ดังนี้**\n",
    "- มีพนักงานต่อผู้จัดการค่อนข้างสูง คนส่วนใหญ่มีอายุ 36 - 50 ปี มีผลการทำงานที่ดี และมีความพึงพอใจในการทำงาน\n",
    "- มีความ Loyalty สูง เนื่องจากจำนวนระยะเวลาการทำงานที่สูงมาก (เฉลี่ย 11.3 ปี) เพื่อต่อยอด บริษัทควรออกแบบนโยบายหรือสวัสดิการที่ตอบโจทย์คนกลุ่มนี้\n",
    "- มีพนักงานจำนวน 10 คนที่มีผลการทำงานต่ำ แต่อยู่มานาน บริษัทควรพิจารณาปรับปรุงการทำงาน"
   ]
  },
  {
   "cell_type": "markdown",
   "metadata": {},
   "source": [
    "---"
   ]
  },
  {
   "cell_type": "markdown",
   "metadata": {},
   "source": [
    "**9. ทำต่อไปจนครบทุกแผนก หรือได้รับมุมมองอื่น ๆ ตามที่ต้องการ**"
   ]
  },
  {
   "cell_type": "markdown",
   "metadata": {},
   "source": [
    "---"
   ]
  },
  {
   "cell_type": "markdown",
   "metadata": {},
   "source": [
    "**10. เมื่อถึงเวลาจะต้องแชร์ข้อมูลให้ผู้อื่นมาใช้งาน ให้ดำเนินการ Set Row Level Security ตามนโยบายการเข้าถึงข้อมูลของบริษัท**"
   ]
  },
  {
   "cell_type": "markdown",
   "metadata": {},
   "source": [
    " ![Title](Attachment/014.png)"
   ]
  },
  {
   "cell_type": "markdown",
   "metadata": {},
   "source": [
    "- เมื่อผู้จัดการแผนกเซลล์เข้ามาดูก็จะเห็นข้อมูลตามที่ตัวเองได้รับการเข้าถึง"
   ]
  },
  {
   "cell_type": "markdown",
   "metadata": {},
   "source": [
    " ![Title](Attachment/015.png)"
   ]
  },
  {
   "cell_type": "markdown",
   "metadata": {},
   "source": [
    "---"
   ]
  },
  {
   "cell_type": "markdown",
   "metadata": {},
   "source": [
    "**11. ดำเนินการแชร์ลิ้งค์หรือ Public Workspace ให้ปลายทางต่อไป**"
   ]
  }
 ],
 "metadata": {
  "kernelspec": {
   "display_name": "base",
   "language": "python",
   "name": "python3"
  },
  "language_info": {
   "codemirror_mode": {
    "name": "ipython",
    "version": 3
   },
   "file_extension": ".py",
   "mimetype": "text/x-python",
   "name": "python",
   "nbconvert_exporter": "python",
   "pygments_lexer": "ipython3",
   "version": "3.11.7"
  }
 },
 "nbformat": 4,
 "nbformat_minor": 2
}
