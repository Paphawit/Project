{
 "cells": [
  {
   "cell_type": "markdown",
   "metadata": {},
   "source": [
    "### **บริษัทเดินหน้าได้ เพราะมีกำลังคนเป็นสำคัญ**"
   ]
  },
  {
   "cell_type": "markdown",
   "metadata": {},
   "source": [
    "**การวิเคราะห์ข้อมูลด้านทรัพยากรบุคคล จะทำให้บริษัททำกำไรเพิ่มขึ้นได้ ด้วยการใช้กำลังคนอย่างมีประสิทธิภาพ และลดการสูญเสียคนโดยไม่จำเป็น ทั้งนี้ การดำเนินงานในส่วนของ HR Data Analytics จึงมีบทบาทในการช่วยองค์กรวิเคราะห์ปัญหาจากข้อมูลที่บริษัทมี**"
   ]
  },
  {
   "cell_type": "markdown",
   "metadata": {},
   "source": [
    "---"
   ]
  },
  {
   "cell_type": "markdown",
   "metadata": {},
   "source": [
    "**ตัวอย่างการสร้าง Power BI จากข้อมูลทรัพยากรบุคคล มีขั้นตอนดังนี้**"
   ]
  },
  {
   "cell_type": "markdown",
   "metadata": {},
   "source": [
    "**1. นำเข้าข้อมูลจากแหล่งที่มา สำรวจข้อมูล และจัดระเบียบข้อมูลให้มีความเหมาะสมต่อการนำไปทำกราฟต่อ**\n",
    "- จัดการ Column ที่ซ้ำกันออก\n",
    "- สร้าง Column จากข้อมูลที่มี เช่น อายุจากวันเกิด ระยะเวลาการทำงานจากวันเริ่มงาน เป็นต้น\n",
    "- เปลี่ยนข้อมูลที่เป็นรหัสตัวเลข ให้กลายเป็นข้อความที่สื่อความหมาย"
   ]
  },
  {
   "cell_type": "markdown",
   "metadata": {},
   "source": [
    " ![title](Attachment/002.png)"
   ]
  },
  {
   "cell_type": "markdown",
   "metadata": {},
   "source": [
    "---"
   ]
  },
  {
   "cell_type": "markdown",
   "metadata": {},
   "source": [
    "**2. เริ่มต้นสร้างหน้าแสดงข้อมูล**\n",
    "- สืบเนื่องจากผู้ใช้งาน อาจมีการใช้งานตลอดทั้งวัน จึงนิยมใช้พื้นหลังเป็นสีดำเพื่อความสบายตา\n",
    "- ห้องประชุมส่วนใหญ่ ใช้ Projector ขนาดใหญ่ จึงสร้างกรอบการทำงาน (Canvas) ที่มีความละเอียดสูง (3840 x 2160)\n",
    "- การออกแบบ จะนิยมนำข้อมูลทั้งหมดที่มี มาแสดงใน 1 หน้าต่าง ทำให้การตัดสินใจได้หลายมุมมองมากขึ้นในคราวเดียว\n",
    "- การออกแบบ จะต้องให้หน้าจอโหลดได้เร็ว ไฟล์มีน้ำหนักเบา และสามารถพัฒนาต่อได้ง่ายโดยผู้อื่น\n",
    "- ใช้ Grid System ช่วย ทำให้ข้อมูลดูสบายตามากยิ่งขึ้น และทดลองจัดการองค์ประกอบ"
   ]
  },
  {
   "cell_type": "markdown",
   "metadata": {},
   "source": [
    "![title](Attachment/004.png)"
   ]
  },
  {
   "cell_type": "markdown",
   "metadata": {},
   "source": [
    " - ทดลองสร้างกราฟ"
   ]
  },
  {
   "cell_type": "markdown",
   "metadata": {},
   "source": [
    "![title](Attachment/005.png)"
   ]
  },
  {
   "cell_type": "markdown",
   "metadata": {},
   "source": [
    " - ทดลองนำข้อมูลจริงไปวาง เพื่อสำรวจเพิ่มเติม"
   ]
  },
  {
   "cell_type": "markdown",
   "metadata": {},
   "source": [
    "![title](Attachment/006.png)"
   ]
  },
  {
   "cell_type": "markdown",
   "metadata": {},
   "source": [
    "---"
   ]
  },
  {
   "cell_type": "markdown",
   "metadata": {},
   "source": [
    "**3. ปรับปรุงการแสดงข้อมูลให้ดีขึ้น**\n",
    "- รวมกลุ่มแท่งกราฟอายุ เพื่อให้อ่านและแปลผลได้ง่ายขึ้น\n",
    "- รวมกลุ่มคะแนน Engagement ให้มีความถี่น้อยลง\n",
    "- เก็บรวบรวมกราฟที่สามารถนำไปใช้ต่อได้\n",
    "- กำจัดกราฟที่ไม่บ่งบอกความหมายใด ๆ"
   ]
  },
  {
   "cell_type": "markdown",
   "metadata": {},
   "source": [
    "![title](Attachment/007.png)"
   ]
  },
  {
   "cell_type": "markdown",
   "metadata": {},
   "source": [
    "- ปรับปรุง จนได้กราฟที่มีความหมายต่อองค์ และมีความเรียบง่าย"
   ]
  },
  {
   "cell_type": "markdown",
   "metadata": {},
   "source": [
    "![title](Attachment/008.png)"
   ]
  },
  {
   "cell_type": "markdown",
   "metadata": {},
   "source": [
    "---"
   ]
  },
  {
   "cell_type": "markdown",
   "metadata": {},
   "source": [
    "**4. สร้าง Measure เพิ่มเติม และปรับรายละเอียดของกราฟ**\n",
    "- ค้นหา Measure ที่ดีในการชี้วัด และวางตำแหน่งใกล้เคียงกับกราฟที่แสดงเรื่องเดียวกัน \n",
    "- ลดการแบ่งประเภทของบางกราฟให้มีประเภทน้อยลง เพื่อให้ง่ายต่อการอ่านผล\n",
    "- ลดตัวเลขทศนิยมที่มากเกินความจำเป็น\n",
    "- เลือกโทนสีที่เหมาะสมกับองค์กร โดยเน้นความเรียบง่าย ให้ผู้ใช้งานสามารถใช้ได้นานโดยไม่เบื่อ\n",
    "- เลือกสีช่วยบ่งบอกความหมายของกราฟ และระวังไม่ให้มีสีมากเกินไปในหนึ่งหน้า"
   ]
  },
  {
   "cell_type": "markdown",
   "metadata": {},
   "source": [
    "![Title](Attachment/009.png)"
   ]
  },
  {
   "cell_type": "markdown",
   "metadata": {},
   "source": [
    "---"
   ]
  },
  {
   "cell_type": "markdown",
   "metadata": {},
   "source": [
    "**5. เพิ่มประโยชน์การใช้งานด้วย Slicer**\n",
    "- เลือก Slicer ที่ยืดหยุ่น รองรับหลากหลายผู้ใช้งาน\n",
    "- สร้างตารางผลลัพธ์ เพื่อเป็นข้อมูลอ้างอิง"
   ]
  },
  {
   "cell_type": "markdown",
   "metadata": {},
   "source": [
    "![Title](Attachment/010.png)"
   ]
  },
  {
   "cell_type": "markdown",
   "metadata": {},
   "source": [
    "---"
   ]
  },
  {
   "cell_type": "markdown",
   "metadata": {},
   "source": [
    "**6. เพิ่มการใช้ประโยชน์ด้วย Tooltips**\n",
    "- เลือกกราฟใน Tooltips ที่เสริมมุมมองของกราฟ และ Measure ได้ดียิ่งขึ้น\n",
    "- การใช้ Tooltips จะทำให้ประหยัดเนื้อที่เป็นอย่างมาก"
   ]
  },
  {
   "cell_type": "markdown",
   "metadata": {},
   "source": [
    "![Title](Attachment/011.png)"
   ]
  },
  {
   "cell_type": "markdown",
   "metadata": {},
   "source": [
    "---"
   ]
  },
  {
   "cell_type": "markdown",
   "metadata": {},
   "source": [
    "**7. วิเคราะห์ข้อมูล**\n",
    "- กรองพนักงานที่มีสถานะเป็น Active ด้วย Slicer เพื่อให้เห็นข้อมูลปัจจุบัน และง่ายต่อการวิเคราะห์"
   ]
  },
  {
   "cell_type": "markdown",
   "metadata": {},
   "source": [
    " ![Title](Attachment/012.png)"
   ]
  },
  {
   "cell_type": "markdown",
   "metadata": {},
   "source": [
    "- เมื่อกรองเรียบร้อยแล้ว จะพบข้อสังเกตที่น่าสนใจ ตัวอย่างเช่น พนักงานแผนก Production ของบริษัทมีจำนวนมาก แต่มีเงินเดือนเฉลี่ยต่ำ (จึงทำการเลือก Slicer ไปที่ Production เพื่อวิเคราะห์เพิ่มเติม)"
   ]
  },
  {
   "cell_type": "markdown",
   "metadata": {},
   "source": [
    " ![Title](Attachment/013.png)"
   ]
  },
  {
   "cell_type": "markdown",
   "metadata": {},
   "source": [
    "---"
   ]
  },
  {
   "cell_type": "markdown",
   "metadata": {},
   "source": [
    "**8. แผนก Production มีสิ่งที่น่าสนใจ**\n",
    "- มีพนักงานต่อผู้จัดการค่อนข้างสูง คนส่วนใหญ่มีอายุ 36 - 50 ปี มีผลการทำงานที่ดี และมีความพึงพอใจในการทำงาน\n",
    "- มีความ Loyalty สูง เนื่องจากจำนวนระยะเวลาการทำงานที่สูงมาก (เฉลี่ย 11.3 ปี) เพื่อต่อยอด บริษัทควรออกแบบนโยบายหรือสวัสดิการที่ตอบโจทย์คนกลุ่มนี้\n",
    "- มีพนักงานจำนวน 10 คนที่มีผลการทำงานต่ำ แต่อยู่มานาน บริษัทควรพิจารณาปรับปรุงการทำงาน"
   ]
  },
  {
   "cell_type": "markdown",
   "metadata": {},
   "source": [
    "---"
   ]
  },
  {
   "cell_type": "markdown",
   "metadata": {},
   "source": [
    "**9. ทำต่อไปจนครบทุกแผนก จนเข้าใจข้อมูลได้อย่างลึกซึ้ง**"
   ]
  },
  {
   "cell_type": "markdown",
   "metadata": {},
   "source": [
    "---"
   ]
  },
  {
   "cell_type": "markdown",
   "metadata": {},
   "source": [
    "**10. เมื่อถึงเวลาจะต้องแชร์ข้อมูลให้ผู้อื่นมาใช้งาน ให้ดำเนินการ Set Row Level Security ตามนโยบายการเข้าถึงข้อมูลของบริษัท**"
   ]
  },
  {
   "cell_type": "markdown",
   "metadata": {},
   "source": [
    " ![Title](Attachment/014.png)"
   ]
  },
  {
   "cell_type": "markdown",
   "metadata": {},
   "source": [
    "- เมื่อผู้จัดการฝ่ายขายเข้ามาดูก็จะเห็นข้อมูลตามที่ตัวเองได้รับการเข้าถึง"
   ]
  },
  {
   "cell_type": "markdown",
   "metadata": {},
   "source": [
    " ![Title](Attachment/015.png)"
   ]
  },
  {
   "cell_type": "markdown",
   "metadata": {},
   "source": [
    "---"
   ]
  },
  {
   "cell_type": "markdown",
   "metadata": {},
   "source": [
    "**11. ดำเนินการแชร์ลิงก์ ไฟล์ BI ที่เสร็จสมบูรณ์ ดังด้านล่าง ให้กับปลายทางต่อไป**"
   ]
  },
  {
   "cell_type": "markdown",
   "metadata": {},
   "source": [
    " ![Title](Attachment/016.png)"
   ]
  },
  {
   "cell_type": "markdown",
   "metadata": {},
   "source": [
    "*หมายเหตุ: ข้อมูลที่ใช้เป็นข้อมูลที่เปิดเผยสาธารณะบน Internet*"
   ]
  }
 ],
 "metadata": {
  "kernelspec": {
   "display_name": "base",
   "language": "python",
   "name": "python3"
  },
  "language_info": {
   "codemirror_mode": {
    "name": "ipython",
    "version": 3
   },
   "file_extension": ".py",
   "mimetype": "text/x-python",
   "name": "python",
   "nbconvert_exporter": "python",
   "pygments_lexer": "ipython3",
   "version": "3.11.7"
  }
 },
 "nbformat": 4,
 "nbformat_minor": 2
}
