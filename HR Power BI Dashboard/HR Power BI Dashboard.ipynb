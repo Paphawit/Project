{
 "cells": [
  {
   "cell_type": "markdown",
   "metadata": {},
   "source": [
    "### บริษัทจะขับเคลื่อนได้ เพราะกำลังคน"
   ]
  },
  {
   "cell_type": "markdown",
   "metadata": {},
   "source": [
    "#### การรู้ และวิเคราะห์ข้อมูล HR เชิงลึก สามารถทำให้บริษัทมีกำไรเพิ่มขึ้นจากการใช้กำลังคนอย่างเต็มที่ และลดการสูญเสียคนโดยไม่จำเป็น"
   ]
  },
  {
   "cell_type": "markdown",
   "metadata": {},
   "source": [
    "- 1.สีดำ เพราะถนอมสายตา\n",
    "- 2.ใช้ขนาดใหญ่ เพราะห้องประชุมผู้บริหารส่วนใหญ่เป็น Projecter\n",
    "- 3.ทำให้จบใน 1 หน้า\n",
    "- 4.ทำให้เร็วโหลดที่สุด\n",
    "- 5.ทำให้ไฟล์น้ำหนักเบาที่สุด\n",
    "- 6.ใช้ Grid System\n",
    "- 7.EDA ด้วย Power BI\n",
    "- 8.ต่อด้วย Machine Learning ใน Notebook\n",
    "- 3840 x 2160"
   ]
  },
  {
   "cell_type": "markdown",
   "metadata": {},
   "source": [
    "- ใช้ Mocking Data"
   ]
  },
  {
   "cell_type": "markdown",
   "metadata": {},
   "source": [
    "- สำรวจข้อมูลด้วย Power Query"
   ]
  },
  {
   "cell_type": "markdown",
   "metadata": {},
   "source": [
    "![title](Attachment/001.png)"
   ]
  },
  {
   "cell_type": "markdown",
   "metadata": {},
   "source": [
    "- เอา Column ซ้ำซ้อนออก\n",
    "- เปลี่ยน code ให้เป้น Text ที่สื่อความหมาย\n",
    "- สร้างอายุจากวันเกิด\n",
    "- สร้าง service year จาก DateofHire DateofTermination\n",
    "- สร้าง service year จาก DateofHire Current"
   ]
  },
  {
   "cell_type": "markdown",
   "metadata": {},
   "source": [
    " ![title](Attachment/002.png)"
   ]
  },
  {
   "cell_type": "markdown",
   "metadata": {},
   "source": [
    "- เปลี่ยนพื้นหลังเป็นสีดำเพื่อความสบายตา"
   ]
  },
  {
   "cell_type": "markdown",
   "metadata": {},
   "source": [
    "![title](Attachment/003.png)"
   ]
  },
  {
   "cell_type": "markdown",
   "metadata": {},
   "source": [
    "- วางโครงร่างคร่าว ๆ ด้วย Grid"
   ]
  },
  {
   "cell_type": "markdown",
   "metadata": {},
   "source": [
    "![title](Attachment/004.png)"
   ]
  },
  {
   "cell_type": "markdown",
   "metadata": {},
   "source": [
    "- วางองค์ประกอบคร่าว ๆ"
   ]
  },
  {
   "cell_type": "markdown",
   "metadata": {},
   "source": [
    "![title](Attachment/005.png)"
   ]
  },
  {
   "cell_type": "markdown",
   "metadata": {},
   "source": [
    " - ทดลองพล็อตกราฟจาก Column ที่มี"
   ]
  },
  {
   "cell_type": "markdown",
   "metadata": {},
   "source": [
    "![title](Attachment/006.png)"
   ]
  },
  {
   "cell_type": "markdown",
   "metadata": {},
   "source": [
    "- กราฟอายุสามารถรวมกลุ่มได้ เพื่อให้อ่านได้ง่ายขึ้น\n",
    "เป็นรูปทรงพีระมิด พบเห็นได้ตามบริษัททั่วไป\n",
    "\n",
    "- ประเภท Citizen สามารถย่อลงได้\n",
    "\n",
    "- ปีที่เข้างานเข้าเปลี่ยนเป้น Service Year แทน\n",
    "\n",
    "- คนมาสาย ณ กราฟนี้ยังไม่ได้บอกอะไร (แต่สาทมารถนำไปใช้ประโยชน์อย่างอื่นได้)\n",
    "\n",
    "- หลายกราฟใช้ได้แล้ว\n",
    "\n",
    "- Grouping คะแนน Engagement ด้วย Round\n",
    "\n",
    "- ปรับรูปแบบกราฟให้เหมาะสม"
   ]
  },
  {
   "cell_type": "markdown",
   "metadata": {},
   "source": [
    "![title](Attachment/007.png)"
   ]
  },
  {
   "cell_type": "markdown",
   "metadata": {},
   "source": [
    "- ทำเช่นนี้ไปเรื่อย ๆ จนได้กราฟที่มีความหมายต่อองค์กร\n",
    "- พยายามใช้กราฟที่เรียบง่าย"
   ]
  },
  {
   "cell_type": "markdown",
   "metadata": {},
   "source": [
    "![title](Attachment/008.png)"
   ]
  },
  {
   "cell_type": "markdown",
   "metadata": {},
   "source": [
    "- ระหว่างนี้ให้สร้าง Measure ที่ต้องการโดยวางตำแหน่งให้ไปในทิศทางเดียวกับกราฟ\n",
    "- ลดประเภทการแบ่งของบาง Column ลง\n",
    "- ไม่ใช้ Decimal เกินความจำเป็น\n",
    "- ใช้สีบ่งบอกความหมายของกราฟ"
   ]
  },
  {
   "cell_type": "markdown",
   "metadata": {},
   "source": [
    "![Title](Attachment/009.png)"
   ]
  },
  {
   "cell_type": "markdown",
   "metadata": {},
   "source": [
    "- เพิ่ม Slicer\n",
    "- ข้อมูลและกราฟเปลี่ยนไปตามบริบทองค์กรและผู้ใช้งาน\n",
    "- เปลี่ยนไปตามข้อจำกัดข้อมูลที่มี\n",
    "- additional slicer ทำให้เข้าถึง USER มากขึ้น\n",
    "- ตั้ง RLS ตาม Department"
   ]
  },
  {
   "cell_type": "markdown",
   "metadata": {},
   "source": [
    "![Title](Attachment/010.png)"
   ]
  },
  {
   "cell_type": "markdown",
   "metadata": {},
   "source": [
    "- ดำเนินการทำ Tooltips เพื่อทำให้กราฟแสดงข้อมูลได้มากขึ้น \n",
    "- เพิ่มปุ่ม clear slicer เพื่อให้ User ใช้งานง่ายขึ้น"
   ]
  },
  {
   "cell_type": "markdown",
   "metadata": {},
   "source": [
    "![Title](Attachment/011.png)"
   ]
  },
  {
   "cell_type": "markdown",
   "metadata": {},
   "source": [
    "\n",
    "\n",
    "- ปัจจุบันมีข้อมูลActive กับ Terminated ปนกันอยู่ อาจทำให้อ่านค่ายาก ให้ปรับ Slicer ให้มีแต่ Active"
   ]
  },
  {
   "cell_type": "markdown",
   "metadata": {},
   "source": [
    " ![Title](Attachment/012.png)"
   ]
  },
  {
   "cell_type": "markdown",
   "metadata": {},
   "source": [
    "- หลังจากได้ Dashboard เรียบร้อยแล้ว เริ่มวิเคราะห์ข้อมูล เชิง Insight ต่อไปตามที่ปลายทางต้องการ\n",
    "-ตัวอย่างเช่น สังเกตได้ว่า แผนก Production ของบริษัทมีจำนวน แต่มีเงินเดือนเฉลี่ยต่ำ จึงเป็นแผนกที่น่าสนใจ ให้เลือก Slicer เพื่อทำมาวิเคราะห์เพิ่มเติม"
   ]
  },
  {
   "cell_type": "markdown",
   "metadata": {},
   "source": [
    " ![Title](Attachment/013.png)"
   ]
  },
  {
   "cell_type": "markdown",
   "metadata": {},
   "source": [
    "- แผนก Productiton มีพนักงานต่อผู้จัดการ 1 คน ค่อนข้างสูง คนนส่วนใหญ่มีอายุอยู่ที่ 36 - 50 ปี มีผู้หญิงมากกว่าผู้ชาย มี Performance ที่ดี และมีความพึงพอใจในการทำงานดูจากคะแนนอยู่ที่ 3 -5 เป็นหลัก\n",
    "1. สิ่งที่น่าสนใจคือแผนก Production มีแนวโน้มที่มีความ Loyalty สูง เนื่องจากค่าต่ำสุดของ Service Year อยู่ที่ 6 สูงสุดที่ 17 และค่าสูงอยู่ที่ 10 - 13 ปี บริษัทควรออกแบบนโยบายหรือสวัสดิการที่ตอบโจทย์คนกลุมนี้\n",
    "2. พนักงานอยู่ 10 คนที่มีผลการทำงานต่ำ แต่อยู่มานานบริษัทก็ควรพิจารณาปรับปรุงการทำงานของคนกลุ่มนี้\n",
    "- เมื่อ Dashboard สมบูรณ์พร้อมใช้ก็จะทำให้สามารถวิเคราะห์ข้อมูลเชิงลึกได้มากขึ้นดังตัวอย่าง\n",
    "- ทำต่อไปจนครบทุกแผนก หรือมุมมองอื่น ๆ ที่ต้องการ"
   ]
  },
  {
   "cell_type": "markdown",
   "metadata": {},
   "source": [
    "- เมื่อถึงเวลาแชร์ข้อมูลให้ผู้อื่นมาใช้งาน ให้ดำเนินการ Set Row Level Security ตามนโยบายการเข้าถึงข้อมูลของบริษัท เช่นการแบ่งตาม Department (Executive Office อาจจะมี Role แต่ไม่ได้จำกัดสิทธิในการดู)"
   ]
  },
  {
   "cell_type": "markdown",
   "metadata": {},
   "source": [
    " ![Title](Attachment/014.png)"
   ]
  },
  {
   "cell_type": "markdown",
   "metadata": {},
   "source": [
    "- เมื่อผู้จัดการแผนกเซลล์เข้ามาดูก็จะเห็นข้อมูลตามที่ตัวเองได้รับการเข้าถึง"
   ]
  },
  {
   "cell_type": "markdown",
   "metadata": {},
   "source": [
    " ![Title](Attachment/015.png)"
   ]
  },
  {
   "cell_type": "markdown",
   "metadata": {},
   "source": [
    "- ดำเนินการแชร์ลิ้งค์หรือ Public Workspace ให้ปลายทางต่อไป"
   ]
  }
 ],
 "metadata": {
  "kernelspec": {
   "display_name": "base",
   "language": "python",
   "name": "python3"
  },
  "language_info": {
   "codemirror_mode": {
    "name": "ipython",
    "version": 3
   },
   "file_extension": ".py",
   "mimetype": "text/x-python",
   "name": "python",
   "nbconvert_exporter": "python",
   "pygments_lexer": "ipython3",
   "version": "3.11.7"
  }
 },
 "nbformat": 4,
 "nbformat_minor": 2
}
