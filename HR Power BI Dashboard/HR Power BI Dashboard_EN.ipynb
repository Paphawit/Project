{
 "cells": [
  {
   "cell_type": "markdown",
   "metadata": {},
   "source": [
    "### **A company thrives because of its people**"
   ]
  },
  {
   "cell_type": "markdown",
   "metadata": {},
   "source": [
    "**HR data analysis is a vital tool that drives profitability by maximizing workforce efficiency and minimizing unnecessary turnover. Power BI serves as an effective platform to analyze and solve HR-related challenges using company data.**"
   ]
  },
  {
   "cell_type": "markdown",
   "metadata": {},
   "source": [
    "---"
   ]
  },
  {
   "cell_type": "markdown",
   "metadata": {},
   "source": [
    "**Process of Building a Power BI Dashboard from HR Data:**"
   ]
  },
  {
   "cell_type": "markdown",
   "metadata": {},
   "source": [
    "**1. Import and Cleanse Data from Source Systems**\n",
    "- Remove duplicate columns  \n",
    "- Create new columns, such as:\n",
    "  - Calculating age from date of birth\n",
    "  - Calculating tenure from start date  \n",
    "- Convert numeric codes into meaningful text (e.g., job titles)"
   ]
  },
  {
   "cell_type": "markdown",
   "metadata": {},
   "source": [
    " ![title](Attachment/002.png)"
   ]
  },
  {
   "cell_type": "markdown",
   "metadata": {},
   "source": [
    "---"
   ]
  },
  {
   "cell_type": "markdown",
   "metadata": {},
   "source": [
    "**2. Design the Initial Dashboard Layout**\n",
    "\n",
    "- Use a black background for all-day visibility  \n",
    "- Create a high-resolution canvas (3840 x 2160) for meeting room displays  \n",
    "- Present all key data on a single page to support multi-perspective viewing  \n",
    "- Design for fast loading, lightweight file size, and ease of future development  \n",
    "- Apply a grid system for layout consistency and to experiment with component positioning  \n"
   ]
  },
  {
   "cell_type": "markdown",
   "metadata": {},
   "source": [
    "![title](Attachment/004.png)"
   ]
  },
  {
   "cell_type": "markdown",
   "metadata": {},
   "source": [
    "- Create initial charts"
   ]
  },
  {
   "cell_type": "markdown",
   "metadata": {},
   "source": [
    "![title](Attachment/005.png)"
   ]
  },
  {
   "cell_type": "markdown",
   "metadata": {},
   "source": [
    "- Populate charts with real data to explore and refine insights"
   ]
  },
  {
   "cell_type": "markdown",
   "metadata": {},
   "source": [
    "![title](Attachment/006.png)"
   ]
  },
  {
   "cell_type": "markdown",
   "metadata": {},
   "source": [
    "---"
   ]
  },
  {
   "cell_type": "markdown",
   "metadata": {},
   "source": [
    "**3. Improve Data Presentation**\n",
    "- Group age ranges to enhance readability and interpretability  \n",
    "- Reduce granularity in engagement score groupings  \n",
    "- Retain only actionable or reusable charts  \n",
    "- Remove unclear or non-informative visuals "
   ]
  },
  {
   "cell_type": "markdown",
   "metadata": {},
   "source": [
    "![title](Attachment/007.png)"
   ]
  },
  {
   "cell_type": "markdown",
   "metadata": {},
   "source": [
    "- Finalize simplified and meaningful visualizations"
   ]
  },
  {
   "cell_type": "markdown",
   "metadata": {},
   "source": [
    "![title](Attachment/008.png)"
   ]
  },
  {
   "cell_type": "markdown",
   "metadata": {},
   "source": [
    "---"
   ]
  },
  {
   "cell_type": "markdown",
   "metadata": {},
   "source": [
    "**4. Add Measures and Refine Chart Details**\n",
    "- Identify valuable measures and place them near relevant visuals  \n",
    "- Limit chart types for ease of understanding  \n",
    "- Reduce unnecessary decimal places  \n",
    "- Use clean, organization-appropriate color themes  \n",
    "- Apply color meaningfully; avoid overuse on a single page  "
   ]
  },
  {
   "cell_type": "markdown",
   "metadata": {},
   "source": [
    "![Title](Attachment/009.png)"
   ]
  },
  {
   "cell_type": "markdown",
   "metadata": {},
   "source": [
    "---"
   ]
  },
  {
   "cell_type": "markdown",
   "metadata": {},
   "source": [
    "**5. Enhance Usability with Slicers**\n",
    "- Select flexible slicers to accommodate diverse user needs  \n",
    "- Create summary tables as reference datasets  "
   ]
  },
  {
   "cell_type": "markdown",
   "metadata": {},
   "source": [
    "![Title](Attachment/010.png)"
   ]
  },
  {
   "cell_type": "markdown",
   "metadata": {},
   "source": [
    "---"
   ]
  },
  {
   "cell_type": "markdown",
   "metadata": {},
   "source": [
    "**6. Use Tooltips for Additional Context**\n",
    "- Add supporting charts and measures within tooltips  \n",
    "- Use tooltips to save space while delivering deeper insights"
   ]
  },
  {
   "cell_type": "markdown",
   "metadata": {},
   "source": [
    "![Title](Attachment/011.png)"
   ]
  },
  {
   "cell_type": "markdown",
   "metadata": {},
   "source": [
    "---"
   ]
  },
  {
   "cell_type": "markdown",
   "metadata": {},
   "source": [
    "**7. Analyze the Data**\n",
    "- Filter only **Active** employees via slicers for up-to-date analysis"
   ]
  },
  {
   "cell_type": "markdown",
   "metadata": {},
   "source": [
    " ![Title](Attachment/012.png)"
   ]
  },
  {
   "cell_type": "markdown",
   "metadata": {},
   "source": [
    "- Observation: Production department has high headcount but low average salary, then use slicer to drill down"
   ]
  },
  {
   "cell_type": "markdown",
   "metadata": {},
   "source": [
    " ![Title](Attachment/013.png)"
   ]
  },
  {
   "cell_type": "markdown",
   "metadata": {},
   "source": [
    "---"
   ]
  },
  {
   "cell_type": "markdown",
   "metadata": {},
   "source": [
    "**8. Insights from Production Department:**\n",
    "- High employee-to-manager ratio  \n",
    "- Majority aged 36–50 with strong performance and job satisfaction  \n",
    "- High loyalty with average tenure of 11.3 years, then consider tailoring policies/benefits for this group  \n",
    "- 10 employees with long tenure but low performance, then consider operational improvements"
   ]
  },
  {
   "cell_type": "markdown",
   "metadata": {},
   "source": [
    "---"
   ]
  },
  {
   "cell_type": "markdown",
   "metadata": {},
   "source": [
    "**9. Repeat Analysis Across All Departments**\n",
    "- Perform similar analysis for all departments  \n",
    "- Provide a comprehensive view of the entire organization  "
   ]
  },
  {
   "cell_type": "markdown",
   "metadata": {},
   "source": [
    "---"
   ]
  },
  {
   "cell_type": "markdown",
   "metadata": {},
   "source": [
    "**10. Share the Dashboard**\n",
    "- Set up **Row-Level Security (RLS)** based on company data access policies"
   ]
  },
  {
   "cell_type": "markdown",
   "metadata": {},
   "source": [
    " ![Title](Attachment/014.png)"
   ]
  },
  {
   "cell_type": "markdown",
   "metadata": {},
   "source": [
    "- Example: Sales managers will only see data they’re authorized to view"
   ]
  },
  {
   "cell_type": "markdown",
   "metadata": {},
   "source": [
    " ![Title](Attachment/015.png)"
   ]
  },
  {
   "cell_type": "markdown",
   "metadata": {},
   "source": [
    "---"
   ]
  },
  {
   "cell_type": "markdown",
   "metadata": {},
   "source": [
    "**11. Distribute the final Power BI link and file to stakeholders**"
   ]
  },
  {
   "cell_type": "markdown",
   "metadata": {},
   "source": [
    " ![Title](Attachment/016.png)"
   ]
  },
  {
   "cell_type": "markdown",
   "metadata": {},
   "source": [
    "**Note:** The data used here is publicly available on the Internet."
   ]
  }
 ],
 "metadata": {
  "kernelspec": {
   "display_name": "base",
   "language": "python",
   "name": "python3"
  },
  "language_info": {
   "codemirror_mode": {
    "name": "ipython",
    "version": 3
   },
   "file_extension": ".py",
   "mimetype": "text/x-python",
   "name": "python",
   "nbconvert_exporter": "python",
   "pygments_lexer": "ipython3",
   "version": "3.11.7"
  }
 },
 "nbformat": 4,
 "nbformat_minor": 2
}
