{
 "cells": [
  {
   "cell_type": "markdown",
   "metadata": {},
   "source": [
    "### **บริษัทเดินหน้าได้ เพราะมีกำลังคนเป็นสำคัญ**"
   ]
  },
  {
   "cell_type": "markdown",
   "metadata": {},
   "source": [
    "**การวิเคราะห์ข้อมูลทรัพยากรบุคคล  สามารถช่วยเพิ่มกำไรด้วยการใช้บุคลากรอย่างมีประสิทธิภาพและลดการสูญเสียคนที่ไม่จำเป็น จึงเป็นเครื่องมือสำคัญในการวิเคราะห์และแก้ไขปัญหาจากข้อมูลของบริษัท**"
   ]
  },
  {
   "cell_type": "markdown",
   "metadata": {},
   "source": [
    "---"
   ]
  },
  {
   "cell_type": "markdown",
   "metadata": {},
   "source": [
    "**ตัวอย่างการสร้าง Power BI จากข้อมูลทรัพยากรบุคคล มีขั้นตอนดังนี้**"
   ]
  },
  {
   "cell_type": "markdown",
   "metadata": {},
   "source": [
    "**1. นำเข้าข้อมูลจากแหล่งที่มา สำรวจและจัดระเบียบข้อมูลสำหรับสร้างกราฟ**\n",
    "- กำจัดคอลัมน์ที่ซ้ำกัน\n",
    "- สร้างคอลัมน์ใหม่ เช่น คำนวณอายุจากวันเกิด หรือระยะเวลาการทำงานจากวันเริ่มงาน\n",
    "- แปลงข้อมูลรหัสตัวเลขให้เป็นข้อความที่สื่อความหมาย"
   ]
  },
  {
   "cell_type": "markdown",
   "metadata": {},
   "source": [
    " ![title](Attachment/002.png)"
   ]
  },
  {
   "cell_type": "markdown",
   "metadata": {},
   "source": [
    "---"
   ]
  },
  {
   "cell_type": "markdown",
   "metadata": {},
   "source": [
    "**2. เริ่มต้นสร้างหน้าแสดงข้อมูล**\n",
    "- ใช้พื้นหลังสีดำสำหรับการใช้งานตลอดวัน\n",
    "- สร้าง Canvas ความละเอียดสูง (3840 x 2160) สำหรับห้องประชุม\n",
    "- แสดงข้อมูลทั้งหมดในหน้าเดียวเพื่อมุมมองที่หลากหลาย\n",
    "- ออกแบบให้โหลดเร็ว ไฟล์เบา และง่ายต่อการพัฒนา\n",
    "- ใช้ Grid System เพื่อความเป็นระเบียบและทดลองจัดองค์ประกอบ"
   ]
  },
  {
   "cell_type": "markdown",
   "metadata": {},
   "source": [
    "![title](Attachment/004.png)"
   ]
  },
  {
   "cell_type": "markdown",
   "metadata": {},
   "source": [
    " - ทดลองสร้างกราฟ"
   ]
  },
  {
   "cell_type": "markdown",
   "metadata": {},
   "source": [
    "![title](Attachment/005.png)"
   ]
  },
  {
   "cell_type": "markdown",
   "metadata": {},
   "source": [
    " - ทดลองนำข้อมูลจริงไปวาง เพื่อสำรวจเพิ่มเติม"
   ]
  },
  {
   "cell_type": "markdown",
   "metadata": {},
   "source": [
    "![title](Attachment/006.png)"
   ]
  },
  {
   "cell_type": "markdown",
   "metadata": {},
   "source": [
    "---"
   ]
  },
  {
   "cell_type": "markdown",
   "metadata": {},
   "source": [
    "**3. ปรับปรุงการแสดงข้อมูลให้ดีขึ้น**\n",
    "- รวมกลุ่มแท่งกราฟอายุให้อ่านและแปลผลง่าย\n",
    "- ลดความถี่ของกลุ่มคะแนน Engagement\n",
    "- รวบรวมกราฟที่นำไปใช้งานต่อได้\n",
    "- กำจัดกราฟที่ไม่แสดงความหมายที่ชัดเจน"
   ]
  },
  {
   "cell_type": "markdown",
   "metadata": {},
   "source": [
    "![title](Attachment/007.png)"
   ]
  },
  {
   "cell_type": "markdown",
   "metadata": {},
   "source": [
    "- ปรับปรุงจนได้กราฟที่มีความหมายและเรียบง่าย"
   ]
  },
  {
   "cell_type": "markdown",
   "metadata": {},
   "source": [
    "![title](Attachment/008.png)"
   ]
  },
  {
   "cell_type": "markdown",
   "metadata": {},
   "source": [
    "---"
   ]
  },
  {
   "cell_type": "markdown",
   "metadata": {},
   "source": [
    "**4. สร้าง Measure เพิ่มเติม และปรับรายละเอียดของกราฟ**\n",
    "- ค้นหา Measure ที่ดี และจัดวางใกล้กับกราฟที่เกี่ยวข้อง\n",
    "- ลดจำนวนประเภทของกราฟให้ง่ายต่อการอ่าน\n",
    "- ลดทศนิยมที่ไม่จำเป็น\n",
    "- เลือกโทนสีเรียบง่ายและเหมาะสมกับองค์กร\n",
    "- ใช้สีที่บ่งบอกความหมายและหลีกเลี่ยงสีเกินความจำเป็นในหน้าเดียว"
   ]
  },
  {
   "cell_type": "markdown",
   "metadata": {},
   "source": [
    "![Title](Attachment/009.png)"
   ]
  },
  {
   "cell_type": "markdown",
   "metadata": {},
   "source": [
    "---"
   ]
  },
  {
   "cell_type": "markdown",
   "metadata": {},
   "source": [
    "**5. เพิ่มประโยชน์การใช้งานด้วย Slicer**\n",
    "- เลือก Slicer ที่ยืดหยุ่น รองรับการใช้งานของผู้ใช้หลากหลาย\n",
    "- สร้างตารางผลลัพธ์เป็นข้อมูลอ้างอิง"
   ]
  },
  {
   "cell_type": "markdown",
   "metadata": {},
   "source": [
    "![Title](Attachment/010.png)"
   ]
  },
  {
   "cell_type": "markdown",
   "metadata": {},
   "source": [
    "---"
   ]
  },
  {
   "cell_type": "markdown",
   "metadata": {},
   "source": [
    "**6. เพิ่มการใช้ประโยชน์ด้วย Tooltips**\n",
    "- เลือกกราฟใน Tooltips ที่เสริมมุมมองและ Measure\n",
    "- ใช้ Tooltips เพื่อประหยัดพื้นที่ในการแสดงผล"
   ]
  },
  {
   "cell_type": "markdown",
   "metadata": {},
   "source": [
    "![Title](Attachment/011.png)"
   ]
  },
  {
   "cell_type": "markdown",
   "metadata": {},
   "source": [
    "---"
   ]
  },
  {
   "cell_type": "markdown",
   "metadata": {},
   "source": [
    "**7. วิเคราะห์ข้อมูล**\n",
    "- กรองพนักงานที่มีสถานะ Active ด้วย Slicer เพื่อแสดงข้อมูลปัจจุบันและง่ายต่อการวิเคราะห์"
   ]
  },
  {
   "cell_type": "markdown",
   "metadata": {},
   "source": [
    " ![Title](Attachment/012.png)"
   ]
  },
  {
   "cell_type": "markdown",
   "metadata": {},
   "source": [
    "- เมื่อกรองข้อมูลแล้ว พบข้อสังเกตที่น่าสนใจ เช่น แผนก Production มีจำนวนพนักงานมาก แต่เงินเดือนเฉลี่ยต่ำ (จึงเลือก Slicer ที่ Production เพื่อวิเคราะห์เพิ่มเติม)"
   ]
  },
  {
   "cell_type": "markdown",
   "metadata": {},
   "source": [
    " ![Title](Attachment/013.png)"
   ]
  },
  {
   "cell_type": "markdown",
   "metadata": {},
   "source": [
    "---"
   ]
  },
  {
   "cell_type": "markdown",
   "metadata": {},
   "source": [
    "**8. แผนก Production มีสิ่งที่น่าสนใจ**\n",
    "- มีพนักงานต่อผู้จัดการสูง โดยคนส่วนใหญ่มีอายุ 36-50 ปี ผลการทำงานดีและมีความพึงพอใจในงาน\n",
    "- มีความ Loyalty สูง ด้วยระยะเวลาการทำงานเฉลี่ย 11.3 ปี ควรออกแบบนโยบายหรือสวัสดิการให้ตอบโจทย์กลุ่มนี้\n",
    "- มีพนักงาน 10 คนที่มีผลการทำงานต่ำแต่อยู่มานาน ควรพิจารณาปรับปรุงแนวทางการทำงาน"
   ]
  },
  {
   "cell_type": "markdown",
   "metadata": {},
   "source": [
    "---"
   ]
  },
  {
   "cell_type": "markdown",
   "metadata": {},
   "source": [
    "**9. ทำต่อไปจนครบทุกแผนก**\n",
    "- ดำเนินการวิเคราะห์และปรับปรุงข้อมูลจนครอบคลุมทุกแผนกเพื่อให้เห็นภาพรวมที่ชัดเจนขององค์กร"
   ]
  },
  {
   "cell_type": "markdown",
   "metadata": {},
   "source": [
    "---"
   ]
  },
  {
   "cell_type": "markdown",
   "metadata": {},
   "source": [
    "**10. แชร์ข้อมูลให้ผู้ใช้งาน**\n",
    "\n",
    "- ตั้งค่า Row Level Security ตามนโยบายการเข้าถึงข้อมูลของบริษัทเพื่อแชร์ข้อมูลให้ผู้อื่นใช้งานอย่างปลอดภัย"
   ]
  },
  {
   "cell_type": "markdown",
   "metadata": {},
   "source": [
    " ![Title](Attachment/014.png)"
   ]
  },
  {
   "cell_type": "markdown",
   "metadata": {},
   "source": [
    "- เมื่อผู้จัดการฝ่ายขายเข้าดูจะเห็นข้อมูลตามสิทธิ์ที่ได้รับอนุญาต"
   ]
  },
  {
   "cell_type": "markdown",
   "metadata": {},
   "source": [
    " ![Title](Attachment/015.png)"
   ]
  },
  {
   "cell_type": "markdown",
   "metadata": {},
   "source": [
    "---"
   ]
  },
  {
   "cell_type": "markdown",
   "metadata": {},
   "source": [
    "11. ดำเนินการแชร์ลิงก์ ไฟล์ BI ที่เสร็จสมบูรณ์\n",
    "- แชร์ลิงก์และไฟล์ BI ที่เสร็จสมบูรณ์ตามรายละเอียดด้านล่างให้กับปลายทางต่อไป"
   ]
  },
  {
   "cell_type": "markdown",
   "metadata": {},
   "source": [
    " ![Title](Attachment/016.png)"
   ]
  },
  {
   "cell_type": "markdown",
   "metadata": {},
   "source": [
    "*หมายเหตุ: ข้อมูลที่ใช้เป็นข้อมูลที่เปิดเผยสาธารณะบน Internet*"
   ]
  }
 ],
 "metadata": {
  "kernelspec": {
   "display_name": "base",
   "language": "python",
   "name": "python3"
  },
  "language_info": {
   "codemirror_mode": {
    "name": "ipython",
    "version": 3
   },
   "file_extension": ".py",
   "mimetype": "text/x-python",
   "name": "python",
   "nbconvert_exporter": "python",
   "pygments_lexer": "ipython3",
   "version": "3.11.7"
  }
 },
 "nbformat": 4,
 "nbformat_minor": 2
}
