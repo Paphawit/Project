{
 "cells": [
  {
   "cell_type": "markdown",
   "metadata": {},
   "source": [
    "- 1.สีดำ เพราะถนอมสายตา\n",
    "- 2.ใช้ขนาดใหญ่ เพราะห้องประชุมผู้บริหารส่วนใหญ่เป็น Projecter\n",
    "- 3.ทำให้จบใน 1 หน้า\n",
    "- 4.ทำให้เร็วโหลดที่สุด\n",
    "- 5.ทำให้ไฟล์น้ำหนักเบาที่สุด\n",
    "- 6.ใช้ Grid System\n",
    "- 7.EDA ด้วย Power BI\n",
    "- 8.ต่อด้วย Machine Learning ใน Notebook\n",
    "- 3840 x 2160"
   ]
  },
  {
   "cell_type": "markdown",
   "metadata": {},
   "source": [
    "- ใช้ Mocking Data"
   ]
  },
  {
   "cell_type": "markdown",
   "metadata": {},
   "source": [
    "- สำรวจข้อมูลด้วย Power Query"
   ]
  },
  {
   "cell_type": "markdown",
   "metadata": {},
   "source": [
    "![title](Attachment/001.png)"
   ]
  },
  {
   "cell_type": "markdown",
   "metadata": {},
   "source": [
    "- เอา Column ซ้ำซ้อนออก\n",
    "- เปลี่ยน code ให้เป้น Text ที่สื่อความหมาย\n",
    "- สร้างอายุจากวันเกิด\n",
    "- สร้าง service year จาก DateofHire DateofTermination\n",
    "- สร้าง service year จาก DateofHire Current"
   ]
  },
  {
   "cell_type": "markdown",
   "metadata": {},
   "source": [
    " ![title](Attachment/002.png)"
   ]
  },
  {
   "cell_type": "markdown",
   "metadata": {},
   "source": [
    "- เปลี่ยนพื้นหลังเป็นสีดำเพื่อความสบายตา"
   ]
  },
  {
   "cell_type": "markdown",
   "metadata": {},
   "source": [
    "![title](Attachment/003.png)"
   ]
  },
  {
   "cell_type": "markdown",
   "metadata": {},
   "source": [
    "- วางโครงร่างคร่าว ๆ ด้วย Grid"
   ]
  },
  {
   "cell_type": "markdown",
   "metadata": {},
   "source": [
    "![title](Attachment/004.png)"
   ]
  },
  {
   "cell_type": "markdown",
   "metadata": {},
   "source": [
    "- วางองค์ประกอบคร่าว ๆ"
   ]
  },
  {
   "cell_type": "markdown",
   "metadata": {},
   "source": [
    "![title](Attachment/005.png)"
   ]
  },
  {
   "cell_type": "markdown",
   "metadata": {},
   "source": [
    " - ทดลองพล็อตกราฟจาก Column ที่มี"
   ]
  },
  {
   "cell_type": "markdown",
   "metadata": {},
   "source": [
    "![title](Attachment/006.png)"
   ]
  },
  {
   "cell_type": "markdown",
   "metadata": {},
   "source": [
    "- กราฟอายุสามารถรวมกลุ่มได้ เพื่อให้อ่านได้ง่ายขึ้น\n",
    "เป็นรูปทรงพีระมิด พบเห็นได้ตามบริษัททั่วไป\n",
    "\n",
    "- ประเภท Citizen สามารถย่อลงได้\n",
    "\n",
    "- ปีที่เข้างานเข้าเปลี่ยนเป้น Service Year แทน\n",
    "\n",
    "- คนมาสาย ณ กราฟนี้ยังไม่ได้บอกอะไร (แต่สาทมารถนำไปใช้ประโยชน์อย่างอื่นได้)\n",
    "\n",
    "- หลายกราฟใช้ได้แล้ว\n",
    "\n",
    "- Grouping คะแนน Engagement ด้วย Round\n",
    "\n",
    "- ปรับรูปแบบกราฟให้เหมาะสม"
   ]
  },
  {
   "cell_type": "markdown",
   "metadata": {},
   "source": [
    "![title](Attachment/007.png)"
   ]
  },
  {
   "cell_type": "markdown",
   "metadata": {},
   "source": [
    "- ทำเช่นนี้ไปเรื่อย ๆ จนได้กราฟที่มีความหมายต่อองค์กร\n",
    "- พยายามใช้กราฟที่เรียบง่าย"
   ]
  },
  {
   "cell_type": "markdown",
   "metadata": {},
   "source": [
    "![title](Attachment/008.png)"
   ]
  },
  {
   "cell_type": "markdown",
   "metadata": {},
   "source": [
    "- ระหว่างนี้ให้สร้าง Measure ที่ต้องการโดยวางตำแหน่งให้ไปในทิศทางเดียวกับกราฟ\n",
    "- ลดประเภทการแบ่งของบาง Column ลง\n",
    "- ไม่ใช้ Decimal เกินความจำเป็น\n",
    "- ใช้สีบ่งบอกความหมายของกราฟ"
   ]
  },
  {
   "cell_type": "markdown",
   "metadata": {},
   "source": [
    "![Title](Attachment/009.png)"
   ]
  },
  {
   "cell_type": "markdown",
   "metadata": {},
   "source": [
    "- เพิ่ม Slicer\n",
    "- ข้อมูลและกราฟเปลี่ยนไปตามบริบทองค์กรและผู้ใช้งาน\n",
    "- เปลี่ยนไปตามข้อจำกัดข้อมูลที่มี\n",
    "- additional slicer ทำให้เข้าถึง USER มากขึ้น\n",
    "- ตั้ง RLS ตาม Department"
   ]
  },
  {
   "cell_type": "markdown",
   "metadata": {},
   "source": []
  }
 ],
 "metadata": {
  "kernelspec": {
   "display_name": "base",
   "language": "python",
   "name": "python3"
  },
  "language_info": {
   "codemirror_mode": {
    "name": "ipython",
    "version": 3
   },
   "file_extension": ".py",
   "mimetype": "text/x-python",
   "name": "python",
   "nbconvert_exporter": "python",
   "pygments_lexer": "ipython3",
   "version": "3.11.7"
  }
 },
 "nbformat": 4,
 "nbformat_minor": 2
}
